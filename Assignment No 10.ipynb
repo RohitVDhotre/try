{
 "cells": [
  {
   "cell_type": "markdown",
   "id": "a8b62684",
   "metadata": {},
   "source": [
    "**<h4>Gaurav Jagtap</h4>**<br>\n",
    "**Data Wrangling**<br>\n",
    "**Problem Statement: Data Wrangling on Real Estate Market\n",
    "Dataset: \"RealEstate_Prices.csv\"**<br>\n",
    "**Description: The dataset contains information about housing prices in a specific real estate\n",
    "market. It includes various attributes such as property characteristics, location, sale prices,\n",
    "and other relevant features. The goal is to perform data wrangling to gain insights into the\n",
    "factors influencing housing prices and prepare the dataset for further analysis or modeling.**<br><br>\n",
    "**Tasks to Perform:**<br><br>\n",
    "1. Import the \"RealEstate_Prices.csv\" dataset. Clean column names by removing spaces,\n",
    "special characters, or renaming them for clarity.\n",
    "2. Handle missing values in the dataset, deciding on an appropriate strategy (e.g.,\n",
    "imputation or removal).\n",
    "3. Perform data merging if additional datasets with relevant information are available\n",
    "(e.g., neighborhood demographics or nearby amenities).\n",
    "4. Filter and subset the data based on specific criteria, such as a particular time period,\n",
    "property type, or location.\n",
    "5. Handle categorical variables by encoding them appropriately (e.g., one-hot encoding or\n",
    "label encoding) for further analysis.\n",
    "6. Aggregate the data to calculate summary statistics or derived metrics such as average\n",
    "sale prices by neighborhood or property type.\n",
    "7. Identify and handle outliers or extreme values in the data that may affect the analysis\n",
    "or modeling process.\n"
   ]
  },
  {
   "cell_type": "code",
   "execution_count": null,
   "id": "b69c3e32",
   "metadata": {},
   "outputs": [],
   "source": []
  }
 ],
 "metadata": {
  "kernelspec": {
   "display_name": "Python 3 (ipykernel)",
   "language": "python",
   "name": "python3"
  },
  "language_info": {
   "codemirror_mode": {
    "name": "ipython",
    "version": 3
   },
   "file_extension": ".py",
   "mimetype": "text/x-python",
   "name": "python",
   "nbconvert_exporter": "python",
   "pygments_lexer": "ipython3",
   "version": "3.9.13"
  }
 },
 "nbformat": 4,
 "nbformat_minor": 5
}
